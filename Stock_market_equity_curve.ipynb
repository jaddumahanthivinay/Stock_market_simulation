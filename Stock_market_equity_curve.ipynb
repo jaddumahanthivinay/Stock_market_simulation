{
  "nbformat": 4,
  "nbformat_minor": 0,
  "metadata": {
    "colab": {
      "provenance": []
    },
    "kernelspec": {
      "name": "python3",
      "display_name": "Python 3"
    },
    "language_info": {
      "name": "python"
    }
  },
  "cells": [
    {
      "cell_type": "code",
      "source": [
        "!pip install yfinance\n",
        "!pip install yahoofinancials"
      ],
      "metadata": {
        "colab": {
          "base_uri": "https://localhost:8080/"
        },
        "id": "xVVE0Wev59xq",
        "outputId": "7eae5965-4f0e-4446-c03f-4b02fa21cedc"
      },
      "execution_count": 1,
      "outputs": [
        {
          "output_type": "stream",
          "name": "stdout",
          "text": [
            "Looking in indexes: https://pypi.org/simple, https://us-python.pkg.dev/colab-wheels/public/simple/\n",
            "Collecting yfinance\n",
            "  Downloading yfinance-0.1.84-py2.py3-none-any.whl (29 kB)\n",
            "Requirement already satisfied: numpy>=1.15 in /usr/local/lib/python3.7/dist-packages (from yfinance) (1.21.6)\n",
            "Collecting requests>=2.26\n",
            "  Downloading requests-2.28.1-py3-none-any.whl (62 kB)\n",
            "\u001b[K     |████████████████████████████████| 62 kB 1.2 MB/s \n",
            "\u001b[?25hRequirement already satisfied: multitasking>=0.0.7 in /usr/local/lib/python3.7/dist-packages (from yfinance) (0.0.11)\n",
            "Requirement already satisfied: appdirs>=1.4.4 in /usr/local/lib/python3.7/dist-packages (from yfinance) (1.4.4)\n",
            "Requirement already satisfied: lxml>=4.5.1 in /usr/local/lib/python3.7/dist-packages (from yfinance) (4.9.1)\n",
            "Requirement already satisfied: pandas>=0.24.0 in /usr/local/lib/python3.7/dist-packages (from yfinance) (1.3.5)\n",
            "Requirement already satisfied: pytz>=2017.3 in /usr/local/lib/python3.7/dist-packages (from pandas>=0.24.0->yfinance) (2022.5)\n",
            "Requirement already satisfied: python-dateutil>=2.7.3 in /usr/local/lib/python3.7/dist-packages (from pandas>=0.24.0->yfinance) (2.8.2)\n",
            "Requirement already satisfied: six>=1.5 in /usr/local/lib/python3.7/dist-packages (from python-dateutil>=2.7.3->pandas>=0.24.0->yfinance) (1.15.0)\n",
            "Requirement already satisfied: idna<4,>=2.5 in /usr/local/lib/python3.7/dist-packages (from requests>=2.26->yfinance) (2.10)\n",
            "Requirement already satisfied: charset-normalizer<3,>=2 in /usr/local/lib/python3.7/dist-packages (from requests>=2.26->yfinance) (2.1.1)\n",
            "Requirement already satisfied: certifi>=2017.4.17 in /usr/local/lib/python3.7/dist-packages (from requests>=2.26->yfinance) (2022.9.24)\n",
            "Requirement already satisfied: urllib3<1.27,>=1.21.1 in /usr/local/lib/python3.7/dist-packages (from requests>=2.26->yfinance) (1.24.3)\n",
            "Installing collected packages: requests, yfinance\n",
            "  Attempting uninstall: requests\n",
            "    Found existing installation: requests 2.23.0\n",
            "    Uninstalling requests-2.23.0:\n",
            "      Successfully uninstalled requests-2.23.0\n",
            "Successfully installed requests-2.28.1 yfinance-0.1.84\n",
            "Looking in indexes: https://pypi.org/simple, https://us-python.pkg.dev/colab-wheels/public/simple/\n",
            "Collecting yahoofinancials\n",
            "  Downloading yahoofinancials-1.6.tar.gz (27 kB)\n",
            "Requirement already satisfied: beautifulsoup4 in /usr/local/lib/python3.7/dist-packages (from yahoofinancials) (4.6.3)\n",
            "Requirement already satisfied: pytz in /usr/local/lib/python3.7/dist-packages (from yahoofinancials) (2022.5)\n",
            "Building wheels for collected packages: yahoofinancials\n",
            "  Building wheel for yahoofinancials (setup.py) ... \u001b[?25l\u001b[?25hdone\n",
            "  Created wheel for yahoofinancials: filename=yahoofinancials-1.6-py3-none-any.whl size=15192 sha256=134d95ff2f48740ef7af10e6c5814e8898c4bb6747d13f97c9c578d79d781bb1\n",
            "  Stored in directory: /root/.cache/pip/wheels/4b/63/46/e7110bfee88685fe69e338d1b14d1748921862aa57b6705b60\n",
            "Successfully built yahoofinancials\n",
            "Installing collected packages: yahoofinancials\n",
            "Successfully installed yahoofinancials-1.6\n"
          ]
        }
      ]
    },
    {
      "cell_type": "code",
      "execution_count": 73,
      "metadata": {
        "id": "NC-worS70dIy"
      },
      "outputs": [],
      "source": [
        "# necessary imports\n",
        "import pandas as pd\n",
        "import yfinance as yf\n",
        "from yahoofinancials import YahooFinancials\n",
        "from datetime import date\n",
        "from heapq import nlargest\n",
        "from datetime import datetime, timedelta\n",
        "import numpy as np\n",
        "import seaborn as sns\n",
        "import matplotlib.pyplot as plt\n",
        "from scipy.stats import norm\n",
        "from sklearn.model_selection import train_test_split\n",
        "from sklearn.linear_model import LinearRegression\n",
        "from sklearn.tree import DecisionTreeRegressor\n",
        "from sklearn.svm import SVR\n",
        "from sklearn.ensemble import RandomForestRegressor\n",
        "from sklearn.linear_model import RidgeCV, LassoCV, ElasticNetCV\n",
        "import statistics"
      ]
    },
    {
      "cell_type": "code",
      "source": [
        "# inputs to be taken from app\n",
        "m = 100   # number of days to measure stock performance for sample strategy\n",
        "n = 10    # number of top stocks to be selected for sample strategy\n",
        "initial_equity = 1000000\n",
        "format = '%b %d %Y'\n",
        "start_date_sim = datetime.strptime('Oct 1 2022', format)  # start date for simualtion\n",
        "end_date_sim = datetime.strptime('Oct 20 2022', format)  # end date for simulation\n",
        "start_date_sim = start_date_sim.date()\n",
        "end_date_sim = end_date_sim.date()"
      ],
      "metadata": {
        "id": "gMH5yek1qi-b"
      },
      "execution_count": 3,
      "outputs": []
    },
    {
      "cell_type": "code",
      "source": [
        "# getting dates for downloading stock data based on maximum of simulation period and stock performance period\n",
        "sim_days = end_date_sim - start_date_sim\n",
        "sim_days = sim_days.days\n",
        "max_data = max(sim_days, m)\n",
        "max_data = max_data + 1\n",
        "print(max_data)\n",
        "today = date.today()\n",
        "start_date = today - timedelta(days = max_data)\n",
        "print(start_date)"
      ],
      "metadata": {
        "colab": {
          "base_uri": "https://localhost:8080/"
        },
        "id": "jntfmO87sGKY",
        "outputId": "02d6efa3-4d87-48ba-ee7f-58a3d2ae9fc5"
      },
      "execution_count": 4,
      "outputs": [
        {
          "output_type": "stream",
          "name": "stdout",
          "text": [
            "101\n",
            "2022-07-23\n"
          ]
        }
      ]
    },
    {
      "cell_type": "code",
      "source": [
        "stock_list = ['INFY.NS', 'UPL.NS', 'JSWSTEEL.NS', 'HINDUNILVR.NS', 'LT.NS', 'CIPLA.NS', 'ITC.NS', 'BAJAJFINSV.NS', \n",
        "         'BAJFINANCE.NS', 'WIPRO.NS', 'SBILIFE.NS', 'ASIANPAINT.NS', 'M&M.NS', 'ONGC.NS', 'HCLTECH.NS', 'TCS.NS', \n",
        "         'HEROMOTOCO.NS', 'DRREDDY.NS', 'HDFCLIFE.BO', 'BHARTIARTL.NS', 'DIVISLAB.NS', 'AXISBANK.NS', 'ADANIENT.NS', \n",
        "         'BPCL.NS', 'ICICIBANK.NS', 'TECHM.NS', 'NTPC.NS', 'TITAN.NS', 'GRASIM.NS', 'SUNPHARMA.NS', 'NESTLEIND.NS', \n",
        "         'TATAMOTORS.NS', 'HINDALCO.NS', 'ULTRACEMCO.NS', 'BRITANNIA.NS', 'BAJAJ-AUTO.NS', 'RELIANCE.NS', 'POWERGRID.NS', \n",
        "         'SBIN.NS', 'COALINDIA.NS', 'TATACONSUM.NS', 'KOTAKBANK.NS', 'INDUSINDBK.NS', 'HDFC.NS', 'HDFCBANK.NS', \n",
        "         'MARUTI.NS', 'APOLLOHOSP.NS', 'TATASTEEL.NS', 'EICHERMOT.NS', 'ADANIPORTS.NS']\n",
        "\n",
        "nifty_df = yf.download('^NSEI', start = start_date, end = today)\n",
        "nifty_df['stock_name'] = '^NSEI'\n",
        "print(nifty_df)\n",
        "\n",
        "stock_df = yf.download(stock_list[0], start = start_date, end = today)\n",
        "stock_df['stock_name'] = stock_list[0]\n",
        "for i in range(1,50):\n",
        "  stock_df2 = yf.download(stock_list[i], start = start_date, end = today)\n",
        "  stock_df2['stock_name'] = stock_list[i]\n",
        "  stock_df = stock_df.append(stock_df2)\n",
        "print(stock_df)"
      ],
      "metadata": {
        "colab": {
          "base_uri": "https://localhost:8080/"
        },
        "id": "bsLU0NBw62_n",
        "outputId": "3fc5f335-d5f7-4368-da02-9ea0182846f4"
      },
      "execution_count": 5,
      "outputs": [
        {
          "output_type": "stream",
          "name": "stdout",
          "text": [
            "\r[*********************100%***********************]  1 of 1 completed\n",
            "                    Open          High           Low         Close  \\\n",
            "Date                                                                 \n",
            "2022-07-25  16662.550781  16706.050781  16564.250000  16631.000000   \n",
            "2022-07-26  16632.900391  16636.099609  16463.300781  16483.849609   \n",
            "2022-07-27  16475.349609  16653.449219  16438.750000  16641.800781   \n",
            "2022-07-28  16774.849609  16947.650391  16746.250000  16929.599609   \n",
            "2022-07-29  17079.500000  17172.800781  17018.150391  17158.250000   \n",
            "...                  ...           ...           ...           ...   \n",
            "2022-10-24  17736.349609  17777.550781  17707.400391  17730.750000   \n",
            "2022-10-25  17808.300781  17811.500000  17637.000000  17656.349609   \n",
            "2022-10-27  17771.400391  17783.900391  17654.500000  17736.949219   \n",
            "2022-10-28  17756.400391  17838.900391  17723.699219  17786.800781   \n",
            "2022-10-31  17910.199219  18022.800781  17899.900391  18012.199219   \n",
            "\n",
            "               Adj Close  Volume stock_name  \n",
            "Date                                         \n",
            "2022-07-25  16631.000000  211400      ^NSEI  \n",
            "2022-07-26  16483.849609  208200      ^NSEI  \n",
            "2022-07-27  16641.800781  185200      ^NSEI  \n",
            "2022-07-28  16929.599609  376300      ^NSEI  \n",
            "2022-07-29  17158.250000  436100      ^NSEI  \n",
            "...                  ...     ...        ...  \n",
            "2022-10-24  17730.750000   45000      ^NSEI  \n",
            "2022-10-25  17656.349609  251400      ^NSEI  \n",
            "2022-10-27  17736.949219  324600      ^NSEI  \n",
            "2022-10-28  17786.800781  250000      ^NSEI  \n",
            "2022-10-31  18012.199219  227200      ^NSEI  \n",
            "\n",
            "[66 rows x 7 columns]\n",
            "[*********************100%***********************]  1 of 1 completed\n",
            "[*********************100%***********************]  1 of 1 completed\n",
            "[*********************100%***********************]  1 of 1 completed\n",
            "[*********************100%***********************]  1 of 1 completed\n",
            "[*********************100%***********************]  1 of 1 completed\n",
            "[*********************100%***********************]  1 of 1 completed\n",
            "[*********************100%***********************]  1 of 1 completed\n",
            "[*********************100%***********************]  1 of 1 completed\n",
            "[*********************100%***********************]  1 of 1 completed\n",
            "[*********************100%***********************]  1 of 1 completed\n",
            "[*********************100%***********************]  1 of 1 completed\n",
            "[*********************100%***********************]  1 of 1 completed\n",
            "[*********************100%***********************]  1 of 1 completed\n",
            "[*********************100%***********************]  1 of 1 completed\n",
            "[*********************100%***********************]  1 of 1 completed\n",
            "[*********************100%***********************]  1 of 1 completed\n",
            "[*********************100%***********************]  1 of 1 completed\n",
            "[*********************100%***********************]  1 of 1 completed\n",
            "[*********************100%***********************]  1 of 1 completed\n",
            "[*********************100%***********************]  1 of 1 completed\n",
            "[*********************100%***********************]  1 of 1 completed\n",
            "[*********************100%***********************]  1 of 1 completed\n",
            "[*********************100%***********************]  1 of 1 completed\n",
            "[*********************100%***********************]  1 of 1 completed\n",
            "[*********************100%***********************]  1 of 1 completed\n",
            "[*********************100%***********************]  1 of 1 completed\n",
            "[*********************100%***********************]  1 of 1 completed\n",
            "[*********************100%***********************]  1 of 1 completed\n",
            "[*********************100%***********************]  1 of 1 completed\n",
            "[*********************100%***********************]  1 of 1 completed\n",
            "[*********************100%***********************]  1 of 1 completed\n",
            "[*********************100%***********************]  1 of 1 completed\n",
            "[*********************100%***********************]  1 of 1 completed\n",
            "[*********************100%***********************]  1 of 1 completed\n",
            "[*********************100%***********************]  1 of 1 completed\n",
            "[*********************100%***********************]  1 of 1 completed\n",
            "[*********************100%***********************]  1 of 1 completed\n",
            "[*********************100%***********************]  1 of 1 completed\n",
            "[*********************100%***********************]  1 of 1 completed\n",
            "[*********************100%***********************]  1 of 1 completed\n",
            "[*********************100%***********************]  1 of 1 completed\n",
            "[*********************100%***********************]  1 of 1 completed\n",
            "[*********************100%***********************]  1 of 1 completed\n",
            "[*********************100%***********************]  1 of 1 completed\n",
            "[*********************100%***********************]  1 of 1 completed\n",
            "[*********************100%***********************]  1 of 1 completed\n",
            "[*********************100%***********************]  1 of 1 completed\n",
            "[*********************100%***********************]  1 of 1 completed\n",
            "[*********************100%***********************]  1 of 1 completed\n",
            "[*********************100%***********************]  1 of 1 completed\n",
            "                   Open         High          Low        Close    Adj Close  \\\n",
            "Date                                                                          \n",
            "2022-07-25  1480.099976  1517.150024  1480.099976  1503.599976  1487.345459   \n",
            "2022-07-26  1496.650024  1496.650024  1445.000000  1451.150024  1435.462402   \n",
            "2022-07-27  1451.000000  1473.000000  1445.000000  1471.050049  1455.147339   \n",
            "2022-07-28  1496.400024  1524.449951  1489.849976  1517.400024  1500.996216   \n",
            "2022-07-29  1532.800049  1555.699951  1528.000000  1549.699951  1532.947021   \n",
            "...                 ...          ...          ...          ...          ...   \n",
            "2022-10-24   808.000000   810.000000   802.000000   805.500000   805.500000   \n",
            "2022-10-25   806.700012   812.750000   797.099976   800.349976   800.349976   \n",
            "2022-10-27   805.000000   824.000000   795.000000   821.250000   821.250000   \n",
            "2022-10-28   824.000000   834.799988   817.299988   820.299988   820.299988   \n",
            "2022-10-31   824.000000   831.000000   819.500000   823.549988   823.549988   \n",
            "\n",
            "               Volume     stock_name  \n",
            "Date                                  \n",
            "2022-07-25  7859626.0        INFY.NS  \n",
            "2022-07-26  7268273.0        INFY.NS  \n",
            "2022-07-27  4517285.0        INFY.NS  \n",
            "2022-07-28  6636841.0        INFY.NS  \n",
            "2022-07-29  7009465.0        INFY.NS  \n",
            "...               ...            ...  \n",
            "2022-10-24   665021.0  ADANIPORTS.NS  \n",
            "2022-10-25  4485050.0  ADANIPORTS.NS  \n",
            "2022-10-27  7110289.0  ADANIPORTS.NS  \n",
            "2022-10-28  6898541.0  ADANIPORTS.NS  \n",
            "2022-10-31  4487537.0  ADANIPORTS.NS  \n",
            "\n",
            "[3300 rows x 7 columns]\n"
          ]
        }
      ]
    },
    {
      "cell_type": "code",
      "source": [
        "nifty_df.reset_index(inplace = True)\n",
        "stock_df.reset_index(inplace = True)"
      ],
      "metadata": {
        "id": "li8TAPQKMGhx"
      },
      "execution_count": 6,
      "outputs": []
    },
    {
      "cell_type": "code",
      "source": [
        "max_date = stock_df['Date'].max()\n",
        "min_date = stock_df['Date'].min()\n",
        "print(max_date)\n",
        "print(min_date)"
      ],
      "metadata": {
        "colab": {
          "base_uri": "https://localhost:8080/"
        },
        "id": "FairJI1P11NT",
        "outputId": "e998aaea-babe-4af3-e1c7-6e2d0129ebbe"
      },
      "execution_count": 7,
      "outputs": [
        {
          "output_type": "stream",
          "name": "stdout",
          "text": [
            "2022-10-31 00:00:00\n",
            "2022-07-25 00:00:00\n"
          ]
        }
      ]
    },
    {
      "cell_type": "code",
      "source": [
        "# getting m day performance of stocks\n",
        "perf_index = []\n",
        "dict_mday_performance = {}\n",
        "for i in range(0,50):\n",
        "  early_df = stock_df.loc[(stock_df['stock_name'] == stock_list[i]) & (stock_df['Date'] == min_date)]\n",
        "  later_df = stock_df.loc[(stock_df['stock_name'] == stock_list[i]) & (stock_df['Date'] == max_date)]\n",
        "  early_price = early_df['Close'].tolist()\n",
        "  later_price = later_df['Close'].tolist()\n",
        "  perf_index.append(float(later_price[0])/float(early_price[0]))\n",
        "  dict_mday_performance.update({stock_list[i]:perf_index[i]})\n",
        "print(dict_mday_performance)"
      ],
      "metadata": {
        "colab": {
          "base_uri": "https://localhost:8080/"
        },
        "id": "hyIbQVr-FOM-",
        "outputId": "50515f48-41b6-4697-e54a-d34864625e8b"
      },
      "execution_count": 8,
      "outputs": [
        {
          "output_type": "stream",
          "name": "stdout",
          "text": [
            "{'INFY.NS': 1.0226456832807915, 'UPL.NS': 0.99489066021169, 'JSWSTEEL.NS': 1.1510674845551345, 'HINDUNILVR.NS': 0.9722136972972751, 'LT.NS': 1.1350108171373041, 'CIPLA.NS': 1.216295102376969, 'ITC.NS': 1.158087031347157, 'BAJAJFINSV.NS': 1.337210961376716, 'BAJFINANCE.NS': 1.147277998660069, 'WIPRO.NS': 0.9318948870989363, 'SBILIFE.NS': 1.1056814753135318, 'ASIANPAINT.NS': 1.0008856825530994, 'M&M.NS': 1.187304665733035, 'ONGC.NS': 1.0327426802779451, 'HCLTECH.NS': 1.118734214904868, 'TCS.NS': 1.0083365918824505, 'HEROMOTOCO.NS': 0.9429346409894108, 'DRREDDY.NS': 1.0238192366505858, 'HDFCLIFE.BO': 1.0258186532243712, 'BHARTIARTL.NS': 1.2264150502037534, 'DIVISLAB.NS': 0.9561772661567461, 'AXISBANK.NS': 1.2456176949344722, 'ADANIENT.NS': 1.3124166168768876, 'BPCL.NS': 0.9574333903206497, 'ICICIBANK.NS': 1.1345985572566752, 'TECHM.NS': 1.0453674361406364, 'NTPC.NS': 1.153231172983019, 'TITAN.NS': 1.1857783387514584, 'GRASIM.NS': 1.148948916364281, 'SUNPHARMA.NS': 1.171071633563285, 'NESTLEIND.NS': 1.0856108363027972, 'TATAMOTORS.NS': 0.9181403875158901, 'HINDALCO.NS': 1.0480558240282511, 'ULTRACEMCO.NS': 1.0520218549638893, 'BRITANNIA.NS': 0.9692864313247904, 'BAJAJ-AUTO.NS': 0.9131343488379011, 'RELIANCE.NS': 1.0533796895246077, 'POWERGRID.NS': 1.097402600262137, 'SBIN.NS': 1.1081498673622805, 'COALINDIA.NS': 1.2242409378816121, 'TATACONSUM.NS': 0.9532149424817599, 'KOTAKBANK.NS': 1.0592575530897579, 'INDUSINDBK.NS': 1.1877241712100708, 'HDFC.NS': 1.0698027649496682, 'HDFCBANK.NS': 1.0716740493597252, 'MARUTI.NS': 1.1050849077953966, 'APOLLOHOSP.NS': 1.0781880487104232, 'TATASTEEL.NS': 1.0570417755214048, 'EICHERMOT.NS': 1.2474325370400967, 'ADANIPORTS.NS': 1.0981398418400445}\n"
          ]
        }
      ]
    },
    {
      "cell_type": "code",
      "source": [
        "# getting n best stocks\n",
        "best_stocks = nlargest(n, dict_mday_performance, key = dict_mday_performance.get)\n",
        "print(best_stocks)"
      ],
      "metadata": {
        "colab": {
          "base_uri": "https://localhost:8080/"
        },
        "id": "yp3a1jKobpeS",
        "outputId": "66916167-139e-45ff-abe0-b37a197e2c42"
      },
      "execution_count": 9,
      "outputs": [
        {
          "output_type": "stream",
          "name": "stdout",
          "text": [
            "['BAJAJFINSV.NS', 'ADANIENT.NS', 'EICHERMOT.NS', 'AXISBANK.NS', 'BHARTIARTL.NS', 'COALINDIA.NS', 'CIPLA.NS', 'INDUSINDBK.NS', 'M&M.NS', 'TITAN.NS']\n"
          ]
        }
      ]
    },
    {
      "cell_type": "code",
      "source": [
        "best_df = yf.download(best_stocks[0], start = start_date, end = today)\n",
        "best_df['stock_name'] = best_stocks[0]\n",
        "for i in range(1,10):\n",
        "  best_df2 = yf.download(best_stocks[i], start = start_date, end = today)\n",
        "  best_df2['stock_name'] = best_stocks[i]\n",
        "  best_df = best_df.append(best_df2)\n",
        "print(best_df)"
      ],
      "metadata": {
        "colab": {
          "base_uri": "https://localhost:8080/"
        },
        "id": "cZtmOnR5IXAN",
        "outputId": "1c80e8f5-cec6-47b5-b7a9-28ed4412611d"
      },
      "execution_count": 10,
      "outputs": [
        {
          "output_type": "stream",
          "name": "stdout",
          "text": [
            "[*********************100%***********************]  1 of 1 completed\n",
            "[*********************100%***********************]  1 of 1 completed\n",
            "[*********************100%***********************]  1 of 1 completed\n",
            "[*********************100%***********************]  1 of 1 completed\n",
            "[*********************100%***********************]  1 of 1 completed\n",
            "[*********************100%***********************]  1 of 1 completed\n",
            "[*********************100%***********************]  1 of 1 completed\n",
            "[*********************100%***********************]  1 of 1 completed\n",
            "[*********************100%***********************]  1 of 1 completed\n",
            "[*********************100%***********************]  1 of 1 completed\n",
            "                   Open         High          Low        Close    Adj Close  \\\n",
            "Date                                                                          \n",
            "2022-07-25  1270.000000  1279.494995  1257.000000  1261.954956  1261.954956   \n",
            "2022-07-26  1300.000000  1354.885010  1279.000000  1331.300049  1331.300049   \n",
            "2022-07-27  1334.994995  1338.895020  1300.954956  1330.704956  1330.704956   \n",
            "2022-07-28  1350.699951  1522.324951  1350.699951  1464.204956  1464.204956   \n",
            "2022-07-29  1500.000000  1520.099976  1481.214966  1504.760010  1504.760010   \n",
            "...                 ...          ...          ...          ...          ...   \n",
            "2022-10-24  2697.000000  2699.899902  2679.149902  2683.899902  2683.899902   \n",
            "2022-10-25  2697.350098  2697.350098  2662.000000  2670.300049  2670.300049   \n",
            "2022-10-27  2700.000000  2765.000000  2680.000000  2703.800049  2703.800049   \n",
            "2022-10-28  2708.949951  2738.899902  2693.250000  2736.399902  2736.399902   \n",
            "2022-10-31  2750.000000  2791.000000  2738.250000  2761.500000  2761.500000   \n",
            "\n",
            "              Volume     stock_name  \n",
            "Date                                 \n",
            "2022-07-25   1747020  BAJAJFINSV.NS  \n",
            "2022-07-26  13270240  BAJAJFINSV.NS  \n",
            "2022-07-27   5339660  BAJAJFINSV.NS  \n",
            "2022-07-28  16276260  BAJAJFINSV.NS  \n",
            "2022-07-29  10442350  BAJAJFINSV.NS  \n",
            "...              ...            ...  \n",
            "2022-10-24    184595       TITAN.NS  \n",
            "2022-10-25    505759       TITAN.NS  \n",
            "2022-10-27   2117791       TITAN.NS  \n",
            "2022-10-28   1003160       TITAN.NS  \n",
            "2022-10-31   1144647       TITAN.NS  \n",
            "\n",
            "[660 rows x 7 columns]\n"
          ]
        }
      ]
    },
    {
      "cell_type": "code",
      "source": [
        "best_df.reset_index(inplace = True)"
      ],
      "metadata": {
        "id": "YtvugTwfMbsO"
      },
      "execution_count": 11,
      "outputs": []
    },
    {
      "cell_type": "code",
      "source": [
        "# summing all stock values to create benchmark total equity\n",
        "dates_list = stock_df['Date'].unique()\n",
        "benchmark_df = pd.DataFrame(columns=['Date', 'Close'])\n",
        "for i in dates_list:\n",
        "  temp_df = stock_df.loc[stock_df['Date'] == i]\n",
        "  sum = temp_df['Close'].sum(axis = 0)\n",
        "  benchmark_df.loc[len(benchmark_df.index)] = [i, sum]\n",
        "print(benchmark_df)"
      ],
      "metadata": {
        "colab": {
          "base_uri": "https://localhost:8080/"
        },
        "id": "PVhUeeBNMprQ",
        "outputId": "7aeae2c7-2cf7-4c05-aafa-6007034d1675"
      },
      "execution_count": 12,
      "outputs": [
        {
          "output_type": "stream",
          "name": "stdout",
          "text": [
            "         Date          Close\n",
            "0  2022-07-25  109660.724770\n",
            "1  2022-07-26  108500.399734\n",
            "2  2022-07-27  109611.745270\n",
            "3  2022-07-28  111726.104897\n",
            "4  2022-07-29  112921.658684\n",
            "..        ...            ...\n",
            "61 2022-10-24  116517.500961\n",
            "62 2022-10-25  115855.300323\n",
            "63 2022-10-27  116019.350342\n",
            "64 2022-10-28  116900.098976\n",
            "65 2022-10-31  118169.200394\n",
            "\n",
            "[66 rows x 2 columns]\n"
          ]
        }
      ]
    },
    {
      "cell_type": "code",
      "source": [
        "# initial equity set to initial_equity\n",
        "benchmark_mult = initial_equity/benchmark_df['Close'][0]\n",
        "benchmark_df['Close'] = benchmark_df['Close']*benchmark_mult\n",
        "print(benchmark_df)"
      ],
      "metadata": {
        "id": "fU_CAM_yyZLd",
        "outputId": "e24d6d2f-b91e-460b-c187-7759b2d8b6cb",
        "colab": {
          "base_uri": "https://localhost:8080/"
        }
      },
      "execution_count": 15,
      "outputs": [
        {
          "output_type": "stream",
          "name": "stdout",
          "text": [
            "         Date         Close\n",
            "0  2022-07-25  1.000000e+06\n",
            "1  2022-07-26  9.894190e+05\n",
            "2  2022-07-27  9.995534e+05\n",
            "3  2022-07-28  1.018834e+06\n",
            "4  2022-07-29  1.029737e+06\n",
            "..        ...           ...\n",
            "61 2022-10-24  1.062527e+06\n",
            "62 2022-10-25  1.056489e+06\n",
            "63 2022-10-27  1.057985e+06\n",
            "64 2022-10-28  1.066016e+06\n",
            "65 2022-10-31  1.077589e+06\n",
            "\n",
            "[66 rows x 2 columns]\n"
          ]
        }
      ]
    },
    {
      "cell_type": "code",
      "source": [
        "# summing all top n stock values to create top n total equity\n",
        "dates_list = best_df['Date'].unique()\n",
        "top_df = pd.DataFrame(columns=['Date', 'Close'])\n",
        "for i in dates_list:\n",
        "  temp_df = best_df.loc[best_df['Date'] == i]\n",
        "  sum = temp_df['Close'].sum(axis = 0)\n",
        "  top_df.loc[len(top_df.index)] = [i, sum]\n",
        "print(top_df)"
      ],
      "metadata": {
        "id": "EOaDyBKdwGmZ",
        "outputId": "6807331c-9564-4f5a-fe8a-69eaf55abbea",
        "colab": {
          "base_uri": "https://localhost:8080/"
        }
      },
      "execution_count": 14,
      "outputs": [
        {
          "output_type": "stream",
          "name": "stdout",
          "text": [
            "         Date         Close\n",
            "0  2022-07-25  13892.455048\n",
            "1  2022-07-26  13853.649979\n",
            "2  2022-07-27  13929.604843\n",
            "3  2022-07-28  14133.154816\n",
            "4  2022-07-29  14318.759949\n",
            "..        ...           ...\n",
            "61 2022-10-24  16852.449890\n",
            "62 2022-10-25  16859.849960\n",
            "63 2022-10-27  16946.099945\n",
            "64 2022-10-28  17036.999908\n",
            "65 2022-10-31  17289.499924\n",
            "\n",
            "[66 rows x 2 columns]\n"
          ]
        }
      ]
    },
    {
      "cell_type": "code",
      "source": [
        "# initial equity set to initial_equity\n",
        "top_mult = initial_equity/top_df['Close'][0]\n",
        "top_df['Close'] = top_df['Close']*top_mult\n",
        "print(top_df)"
      ],
      "metadata": {
        "id": "uXXxlo7fzWL5",
        "outputId": "5990d1e8-4aa6-4c63-b5c6-95756041b206",
        "colab": {
          "base_uri": "https://localhost:8080/"
        }
      },
      "execution_count": 17,
      "outputs": [
        {
          "output_type": "stream",
          "name": "stdout",
          "text": [
            "         Date         Close\n",
            "0  2022-07-25  1.000000e+06\n",
            "1  2022-07-26  9.972068e+05\n",
            "2  2022-07-27  1.002674e+06\n",
            "3  2022-07-28  1.017326e+06\n",
            "4  2022-07-29  1.030686e+06\n",
            "..        ...           ...\n",
            "61 2022-10-24  1.213065e+06\n",
            "62 2022-10-25  1.213598e+06\n",
            "63 2022-10-27  1.219806e+06\n",
            "64 2022-10-28  1.226349e+06\n",
            "65 2022-10-31  1.244524e+06\n",
            "\n",
            "[66 rows x 2 columns]\n"
          ]
        }
      ]
    },
    {
      "cell_type": "code",
      "source": [
        "nifty_df.drop(columns = ['Open', 'High', 'Low', 'Adj Close', 'Volume', 'stock_name'], inplace = True)"
      ],
      "metadata": {
        "id": "hhXQe53N1cl7"
      },
      "execution_count": 18,
      "outputs": []
    },
    {
      "cell_type": "code",
      "source": [
        "nifty_mult = initial_equity/nifty_df['Close'][0]\n",
        "nifty_df['Close'] = nifty_df['Close']*nifty_mult\n",
        "print(nifty_df)"
      ],
      "metadata": {
        "id": "4nSUhmxTz48W",
        "outputId": "42f5fc97-8fba-4193-da0e-d0cc159781e2",
        "colab": {
          "base_uri": "https://localhost:8080/"
        }
      },
      "execution_count": 19,
      "outputs": [
        {
          "output_type": "stream",
          "name": "stdout",
          "text": [
            "         Date         Close\n",
            "0  2022-07-25  1.000000e+06\n",
            "1  2022-07-26  9.911520e+05\n",
            "2  2022-07-27  1.000649e+06\n",
            "3  2022-07-28  1.017954e+06\n",
            "4  2022-07-29  1.031703e+06\n",
            "..        ...           ...\n",
            "61 2022-10-24  1.066127e+06\n",
            "62 2022-10-25  1.061653e+06\n",
            "63 2022-10-27  1.066499e+06\n",
            "64 2022-10-28  1.069497e+06\n",
            "65 2022-10-31  1.083050e+06\n",
            "\n",
            "[66 rows x 2 columns]\n"
          ]
        }
      ]
    },
    {
      "cell_type": "code",
      "source": [
        "top_df['Day'] = top_df.index\n",
        "benchmark_df['Day'] = benchmark_df.index\n",
        "nifty_df['Day'] = nifty_df.index"
      ],
      "metadata": {
        "id": "-ZdETiabwXbq"
      },
      "execution_count": 20,
      "outputs": []
    },
    {
      "cell_type": "markdown",
      "source": [
        "**Now we have 3 dataframes showing equities (based on initial equity) of best stocks, component stocks and nifty 50 in the form of top_df, benchmark_df and nifty_df respectively.**"
      ],
      "metadata": {
        "id": "bHG5izj_1A7E"
      }
    },
    {
      "cell_type": "code",
      "source": [
        "top_x = np.array(top_df['Day'])\n",
        "benchmark_x = np.array(benchmark_df['Day'])\n",
        "nifty_x = np.array(nifty_df['Day'])\n",
        "top_y = np.array(top_df['Close'])\n",
        "benchmark_y = np.array(benchmark_df['Close'])\n",
        "nifty_y = np.array(nifty_df['Close'])"
      ],
      "metadata": {
        "id": "D8smorl9xBJ6"
      },
      "execution_count": 21,
      "outputs": []
    },
    {
      "cell_type": "code",
      "source": [
        "top_x = top_x.reshape(-1, 1)\n",
        "benchmark_x = benchmark_x.reshape(-1, 1)\n",
        "nifty_x = nifty_x.reshape(-1, 1)"
      ],
      "metadata": {
        "id": "5P_QsQde3yqX"
      },
      "execution_count": 22,
      "outputs": []
    },
    {
      "cell_type": "code",
      "source": [
        "top_x_train, top_x_test, top_y_train, top_y_test = train_test_split(top_x, top_y, test_size=0.20, random_state=300)\n",
        "benchmark_x_train, benchmark_x_test, benchmark_y_train, benchmark_y_test = train_test_split(benchmark_x, benchmark_y, test_size=0.20, random_state=300)\n",
        "nifty_x_train, nifty_x_test, nifty_y_train, nifty_y_test = train_test_split(nifty_x, nifty_y, test_size=0.20, random_state=300)"
      ],
      "metadata": {
        "id": "fzJQkeJ-tP33"
      },
      "execution_count": 23,
      "outputs": []
    },
    {
      "cell_type": "code",
      "source": [
        "lr = LinearRegression()\n",
        "dt = DecisionTreeRegressor()\n",
        "svr = SVR()\n",
        "rf = RandomForestRegressor()\n",
        "lasso = LassoCV(cv=2)\n",
        "ridge = RidgeCV(cv=2)\n",
        "elastic = ElasticNetCV(cv=2)"
      ],
      "metadata": {
        "id": "oIWhoWK61azF"
      },
      "execution_count": 24,
      "outputs": []
    },
    {
      "cell_type": "code",
      "source": [
        "lr.fit(top_x_train, top_y_train)\n",
        "dt.fit(top_x_train, top_y_train)\n",
        "svr.fit(top_x_train, top_y_train)\n",
        "rf.fit(top_x_train, top_y_train)\n",
        "lasso.fit(top_x_train, top_y_train)\n",
        "ridge.fit(top_x_train, top_y_train)\n",
        "elastic.fit(top_x_train, top_y_train)\n",
        "\n",
        "lr.fit(benchmark_x_train, benchmark_y_train)\n",
        "dt.fit(benchmark_x_train, benchmark_y_train)\n",
        "svr.fit(benchmark_x_train, benchmark_y_train)\n",
        "rf.fit(benchmark_x_train, benchmark_y_train)\n",
        "lasso.fit(benchmark_x_train, benchmark_y_train)\n",
        "ridge.fit(benchmark_x_train, benchmark_y_train)\n",
        "elastic.fit(benchmark_x_train, benchmark_y_train)\n",
        "\n",
        "lr.fit(nifty_x_train, nifty_y_train)\n",
        "dt.fit(nifty_x_train, nifty_y_train)\n",
        "svr.fit(nifty_x_train, nifty_y_train)\n",
        "rf.fit(nifty_x_train, nifty_y_train)\n",
        "lasso.fit(nifty_x_train, nifty_y_train)\n",
        "ridge.fit(nifty_x_train, nifty_y_train)\n",
        "elastic.fit(nifty_x_train, nifty_y_train)"
      ],
      "metadata": {
        "id": "WJfZi4fP1eZE",
        "outputId": "5615b2f7-02eb-4443-967a-4b9cfd545a2c",
        "colab": {
          "base_uri": "https://localhost:8080/"
        }
      },
      "execution_count": 25,
      "outputs": [
        {
          "output_type": "execute_result",
          "data": {
            "text/plain": [
              "ElasticNetCV(cv=2)"
            ]
          },
          "metadata": {},
          "execution_count": 25
        }
      ]
    },
    {
      "cell_type": "code",
      "source": [
        "top_lr_score = lr.score(top_x_test, top_y_test)\n",
        "top_dt_score = dt.score(top_x_test, top_y_test)\n",
        "top_svr_score = svr.score(top_x_test, top_y_test)\n",
        "top_rf_score = rf.score(top_x_test, top_y_test)\n",
        "top_lasso_score = lasso.score(top_x_test, top_y_test)\n",
        "top_ridge_score = ridge.score(top_x_test, top_y_test)\n",
        "top_elastic_score = elastic.score(top_x_test, top_y_test)\n",
        "top_maximum_score = max(top_lr_score, top_dt_score, top_svr_score, top_rf_score, top_lasso_score, \n",
        "                        top_ridge_score, top_elastic_score)\n",
        "print(top_maximum_score)\n",
        "\n",
        "benchmark_lr_score = lr.score(benchmark_x_test, benchmark_y_test)\n",
        "benchmark_dt_score = dt.score(benchmark_x_test, benchmark_y_test)\n",
        "benchmark_svr_score = svr.score(benchmark_x_test, benchmark_y_test)\n",
        "benchmark_rf_score = rf.score(benchmark_x_test, benchmark_y_test)\n",
        "benchmark_lasso_score = lasso.score(benchmark_x_test, benchmark_y_test)\n",
        "benchmark_ridge_score = ridge.score(benchmark_x_test, benchmark_y_test)\n",
        "benchmark_elastic_score = elastic.score(benchmark_x_test, benchmark_y_test)\n",
        "benchmark_maximum_score = max(benchmark_lr_score, benchmark_dt_score, benchmark_svr_score, benchmark_rf_score, \n",
        "                              benchmark_lasso_score, benchmark_ridge_score, benchmark_elastic_score)\n",
        "print(benchmark_maximum_score)\n",
        "\n",
        "nifty_lr_score = lr.score(nifty_x_test, nifty_y_test)\n",
        "nifty_dt_score = dt.score(nifty_x_test, nifty_y_test)\n",
        "nifty_svr_score = svr.score(nifty_x_test, nifty_y_test)\n",
        "nifty_rf_score = rf.score(nifty_x_test, nifty_y_test)\n",
        "nifty_lasso_score = lasso.score(nifty_x_test, nifty_y_test)\n",
        "nifty_ridge_score = ridge.score(nifty_x_test, nifty_y_test)\n",
        "nifty_elastic_score = elastic.score(nifty_x_test, nifty_y_test)\n",
        "nifty_maximum_score = max(nifty_lr_score, nifty_dt_score, nifty_svr_score, nifty_rf_score, nifty_lasso_score, \n",
        "                          nifty_ridge_score, nifty_elastic_score)\n",
        "print(nifty_maximum_score)"
      ],
      "metadata": {
        "id": "cuP8sxnC2bcy",
        "outputId": "84f46bb5-f3d8-47a3-bc35-c4012d2f1946",
        "colab": {
          "base_uri": "https://localhost:8080/"
        }
      },
      "execution_count": 26,
      "outputs": [
        {
          "output_type": "stream",
          "name": "stdout",
          "text": [
            "-5.116131593534387\n",
            "0.057333312105114165\n",
            "0.8045473021173017\n"
          ]
        }
      ]
    },
    {
      "cell_type": "markdown",
      "source": [
        "**From scores, we can see that nifty 50 is stable and can be simulated using best of popular regression models. However, top stocks and nifty 50 component stocks are difficult to generalize.**"
      ],
      "metadata": {
        "id": "Yzh5_i7jA0n5"
      }
    },
    {
      "cell_type": "markdown",
      "source": [
        "**At present, we can create a novel model to simulate upto 30 days period based on present limited data for these two categories - benchmark and sample strategy.\n",
        "This approach divides previously loaded data into 30 day intervals.\n",
        "For each 30 day interval, average of 3 values (same day, previous day and next day for a day's equity) would be used for simulation.\n",
        "Average of all these (3x no. of intervals) would be used to create simulation.**"
      ],
      "metadata": {
        "id": "MFH2vvszBUbE"
      }
    },
    {
      "cell_type": "markdown",
      "source": [
        "**This would remove daily excessive fluctuations and month specificity from simulation.**"
      ],
      "metadata": {
        "id": "ssBCshPkEoiK"
      }
    },
    {
      "cell_type": "code",
      "source": [
        "num_breaks = int(len(top_df['Close'])/30)\n",
        "num_breaks\n",
        "break_indices = []\n",
        "for i in range(0, num_breaks):\n",
        "  break_indices.append(30*i)\n",
        "\n",
        "top_equity_list = []\n",
        "for k in range(0,sim_days+1):\n",
        "  top_mean_list = []\n",
        "  for i in break_indices:\n",
        "    top_values_list = []\n",
        "    if k == 0 and i == 0:\n",
        "      top_ind_df = top_df.iloc[[i+k, i+k+1]]['Close']\n",
        "      top_values_list.append(np.array(top_ind_df[i+k]))\n",
        "      top_values_list.append(np.array(top_ind_df[i+k+1]))\n",
        "    else:\n",
        "      top_ind_df = top_df.iloc[[i+k-1, i+k, i+k+1]]['Close']\n",
        "      top_values_list.append(np.array(top_ind_df[i+k-1]))\n",
        "      top_values_list.append(np.array(top_ind_df[i+k]))\n",
        "      top_values_list.append(np.array(top_ind_df[i+k+1]))\n",
        "    top_sum = 0\n",
        "    for j in range(len(top_values_list)):\n",
        "      top_sum = top_sum + top_values_list[j]\n",
        "    top_mean = top_sum/int(len(top_values_list))\n",
        "    top_mean_list.append(top_mean)\n",
        "  top_sum2 = 0\n",
        "  for l in top_mean_list:\n",
        "    top_sum2 = top_sum2 + l\n",
        "  top_avg = top_sum2/len(top_mean_list)\n",
        "  top_equity_list.append(top_avg)\n",
        "print(top_equity_list)"
      ],
      "metadata": {
        "id": "6rVl9cn5EXAF",
        "outputId": "1efccd2a-0122-4554-a844-d86001a8c154",
        "colab": {
          "base_uri": "https://localhost:8080/"
        }
      },
      "execution_count": 28,
      "outputs": [
        {
          "output_type": "stream",
          "name": "stdout",
          "text": [
            "[1092408.5176537496, 1096671.5926381855, 1104189.6394515673, 1115512.276401946, 1128466.5487903412, 1134997.1906859288, 1141420.0966333277, 1148948.4082671339, 1152517.7355078158, 1157658.7177987099, 1154683.3601796995, 1152759.7719334906, 1146864.847241104, 1146945.290270358, 1152191.9631971996, 1161380.3383335043, 1157908.8487036359, 1154645.5686746798, 1150066.9502290634, 1157051.2545713899]\n"
          ]
        }
      ]
    },
    {
      "cell_type": "code",
      "source": [
        "benchmark_equity_list = []\n",
        "for k in range(0,sim_days+1):\n",
        "  benchmark_mean_list = []\n",
        "  for i in break_indices:\n",
        "    benchmark_values_list = []\n",
        "    if k == 0 and i == 0:\n",
        "      benchmark_ind_df = benchmark_df.iloc[[i+k, i+k+1]]['Close']\n",
        "      benchmark_values_list.append(np.array(benchmark_ind_df[i+k]))\n",
        "      benchmark_values_list.append(np.array(benchmark_ind_df[i+k+1]))\n",
        "    else:\n",
        "      benchmark_ind_df = benchmark_df.iloc[[i+k-1, i+k, i+k+1]]['Close']\n",
        "      benchmark_values_list.append(np.array(benchmark_ind_df[i+k-1]))\n",
        "      benchmark_values_list.append(np.array(benchmark_ind_df[i+k]))\n",
        "      benchmark_values_list.append(np.array(benchmark_ind_df[i+k+1]))\n",
        "    benchmark_sum = 0\n",
        "    for j in range(len(benchmark_values_list)):\n",
        "      benchmark_sum = benchmark_sum + benchmark_values_list[j]\n",
        "    benchmark_mean = benchmark_sum/int(len(benchmark_values_list))\n",
        "    benchmark_mean_list.append(benchmark_mean)\n",
        "  benchmark_sum2 = 0\n",
        "  for l in benchmark_mean_list:\n",
        "    benchmark_sum2 = benchmark_sum2 + l\n",
        "  benchmark_avg = benchmark_sum2/len(benchmark_mean_list)\n",
        "  benchmark_equity_list.append(benchmark_avg)\n",
        "print(benchmark_equity_list)"
      ],
      "metadata": {
        "id": "5FJXk2jbijcD",
        "outputId": "638c323f-db9b-4928-93ff-20491356db6b",
        "colab": {
          "base_uri": "https://localhost:8080/"
        }
      },
      "execution_count": 29,
      "outputs": [
        {
          "output_type": "stream",
          "name": "stdout",
          "text": [
            "[1025647.8153231649, 1028316.0094962555, 1033479.8096623244, 1041968.7875076712, 1048370.1368490264, 1047335.3672357216, 1046157.0065389192, 1047693.7476047154, 1051157.8752179453, 1054085.1988008874, 1051456.3184016652, 1047443.1972587327, 1042003.73911279, 1040992.0629684431, 1043023.684716619, 1047562.1470194724, 1045501.7566398876, 1043628.0062043318, 1040952.4806264953, 1043123.1522730216]\n"
          ]
        }
      ]
    },
    {
      "cell_type": "code",
      "source": [
        "days_list = []\n",
        "for i in range(0,sim_days+1):\n",
        "  days_list.append(i)"
      ],
      "metadata": {
        "id": "O79KALb3l0nu"
      },
      "execution_count": 30,
      "outputs": []
    },
    {
      "cell_type": "code",
      "source": [
        "nifty_x_pred = nifty_x[0:sim_days+1]"
      ],
      "metadata": {
        "id": "MbOziTyfuRXH"
      },
      "execution_count": 32,
      "outputs": []
    },
    {
      "cell_type": "code",
      "source": [
        "if (nifty_maximum_score == nifty_lr_score):\n",
        "  nifty_y_pred = lr.predict(nifty_x_pred)\n",
        "elif (nifty_maximum_score == nifty_dt_score):\n",
        "  nifty_y_pred = dt.predict(nifty_x_pred)\n",
        "elif (nifty_maximum_score == nifty_svr_score):\n",
        "  nifty_y_pred = svr.predict(nifty_x_pred)\n",
        "elif (nifty_maximum_score == nifty_rf_score):\n",
        "  nifty_y_pred = rf.predict(nifty_x_pred)\n",
        "elif (nifty_maximum_score == nifty_lasso_score):\n",
        "  nifty_y_pred = lasso.predict(nifty_x_pred)\n",
        "elif (nifty_maximum_score == nifty_ridge_score):\n",
        "  nifty_y_pred = ridge.predict(nifty_x_pred)\n",
        "elif (nifty_maximum_score == nifty_elastic_score):\n",
        "  nifty_y_pred = elastic.predict(nifty_x_pred)"
      ],
      "metadata": {
        "id": "xaQB2ae8swOE"
      },
      "execution_count": 33,
      "outputs": []
    },
    {
      "cell_type": "markdown",
      "source": [
        "**Plotting equity curves**"
      ],
      "metadata": {
        "id": "NV2uTR6EmkyS"
      }
    },
    {
      "cell_type": "code",
      "source": [
        "plt.plot(days_list, benchmark_equity_list)\n",
        "plt.xlabel('days')\n",
        "plt.ylabel('equity')\n",
        "plt.title('Benchmark equity curve')"
      ],
      "metadata": {
        "id": "RSe4hEDMDIEY",
        "outputId": "1e3109df-418b-450d-d8c5-43b149fe04c6",
        "colab": {
          "base_uri": "https://localhost:8080/",
          "height": 312
        }
      },
      "execution_count": 39,
      "outputs": [
        {
          "output_type": "execute_result",
          "data": {
            "text/plain": [
              "Text(0.5, 1.0, 'Benchmark equity curve')"
            ]
          },
          "metadata": {},
          "execution_count": 39
        },
        {
          "output_type": "display_data",
          "data": {
            "text/plain": [
              "<Figure size 432x288 with 1 Axes>"
            ],
            "image/png": "[encoded data removed]"
          },
          "metadata": {
            "needs_background": "light"
          }
        }
      ]
    },
    {
      "cell_type": "code",
      "source": [
        "plt.plot(days_list, top_equity_list)\n",
        "plt.xlabel('days')\n",
        "plt.ylabel('equity')\n",
        "plt.title('Sample strategy (top stocks) equity curve')"
      ],
      "metadata": {
        "id": "S_WXHxbtDrdq",
        "outputId": "8ed732aa-dba8-47c2-e773-bb72af756e98",
        "colab": {
          "base_uri": "https://localhost:8080/",
          "height": 312
        }
      },
      "execution_count": 40,
      "outputs": [
        {
          "output_type": "execute_result",
          "data": {
            "text/plain": [
              "Text(0.5, 1.0, 'Sample strategy (top stocks) equity curve')"
            ]
          },
          "metadata": {},
          "execution_count": 40
        },
        {
          "output_type": "display_data",
          "data": {
            "text/plain": [
              "<Figure size 432x288 with 1 Axes>"
            ],
            "image/png": "[encoded data removed]"
          },
          "metadata": {
            "needs_background": "light"
          }
        }
      ]
    },
    {
      "cell_type": "code",
      "source": [
        "plt.plot(days_list, nifty_y_pred)\n",
        "plt.xlabel('days')\n",
        "plt.ylabel('equity')\n",
        "plt.title('nifty50 equity curve')"
      ],
      "metadata": {
        "id": "vzknVRnxD8E8",
        "outputId": "98f85e6a-0e98-4b53-ac0f-93c5666385f5",
        "colab": {
          "base_uri": "https://localhost:8080/",
          "height": 312
        }
      },
      "execution_count": 42,
      "outputs": [
        {
          "output_type": "execute_result",
          "data": {
            "text/plain": [
              "Text(0.5, 1.0, 'nifty50 equity curve')"
            ]
          },
          "metadata": {},
          "execution_count": 42
        },
        {
          "output_type": "display_data",
          "data": {
            "text/plain": [
              "<Figure size 432x288 with 1 Axes>"
            ],
            "image/png": "[encoded data removed]"
          },
          "metadata": {
            "needs_background": "light"
          }
        }
      ]
    },
    {
      "cell_type": "code",
      "source": [
        "print(\"Top stocks selected are \\n\", best_stocks)"
      ],
      "metadata": {
        "id": "GABylQbfEMx8",
        "outputId": "e95189d6-1c6c-4ba6-da54-40322d492cd7",
        "colab": {
          "base_uri": "https://localhost:8080/"
        }
      },
      "execution_count": 45,
      "outputs": [
        {
          "output_type": "stream",
          "name": "stdout",
          "text": [
            "Top stocks selected are \n",
            " ['BAJAJFINSV.NS', 'ADANIENT.NS', 'EICHERMOT.NS', 'AXISBANK.NS', 'BHARTIARTL.NS', 'COALINDIA.NS', 'CIPLA.NS', 'INDUSINDBK.NS', 'M&M.NS', 'TITAN.NS']\n"
          ]
        }
      ]
    },
    {
      "cell_type": "markdown",
      "source": [
        "**Performance metrics**"
      ],
      "metadata": {
        "id": "BhNsuuXaObNC"
      }
    },
    {
      "cell_type": "code",
      "source": [
        "# CAGR\n",
        "CAGR_sample = (pow(top_equity_list[-1]/top_equity_list[0], 365/len(top_equity_list)) - 1)*100\n",
        "print(CAGR_sample)\n",
        "CAGR_benchmark = (pow(benchmark_equity_list[-1]/benchmark_equity_list[0], 365/len(benchmark_equity_list)) - 1)*100\n",
        "print(CAGR_benchmark)\n",
        "CAGR_nifty = (pow(nifty_y_pred[-1]/nifty_y_pred[0], 365/len(nifty_y_pred)) - 1)*100\n",
        "print(CAGR_nifty)"
      ],
      "metadata": {
        "id": "QvSzRsPdENuZ",
        "outputId": "f8704235-d206-4e82-d92c-7873e0de2c97",
        "colab": {
          "base_uri": "https://localhost:8080/"
        }
      },
      "execution_count": 62,
      "outputs": [
        {
          "output_type": "stream",
          "name": "stdout",
          "text": [
            "185.53361061586645\n",
            "36.11506326998391\n",
            "183.56648726472594\n"
          ]
        }
      ]
    },
    {
      "cell_type": "code",
      "source": [
        "# daily returns of sample strategy\n",
        "top_daily_returns = []\n",
        "for i in range(1, len(top_equity_list)):\n",
        "  top_daily_returns.append((top_equity_list[i]/top_equity_list[i-1]) - 1)\n",
        "plt.plot(days_list[1:], top_daily_returns)\n",
        "plt.xlabel('days')\n",
        "plt.ylabel('daily returns')\n",
        "plt.title('sample strategy daily returns')"
      ],
      "metadata": {
        "id": "3p9DsV_GOph_",
        "outputId": "3cb59bfd-4be4-4d9c-d5c9-c036bfe19100",
        "colab": {
          "base_uri": "https://localhost:8080/",
          "height": 312
        }
      },
      "execution_count": 68,
      "outputs": [
        {
          "output_type": "execute_result",
          "data": {
            "text/plain": [
              "Text(0.5, 1.0, 'sample strategy daily returns')"
            ]
          },
          "metadata": {},
          "execution_count": 68
        },
        {
          "output_type": "display_data",
          "data": {
            "text/plain": [
              "<Figure size 432x288 with 1 Axes>"
            ],
            "image/png": "[encoded data removed]"
          },
          "metadata": {
            "needs_background": "light"
          }
        }
      ]
    },
    {
      "cell_type": "code",
      "source": [
        "# daily returns of benchmark strategy\n",
        "benchmark_daily_returns = []\n",
        "for i in range(1, len(benchmark_equity_list)):\n",
        "  benchmark_daily_returns.append((benchmark_equity_list[i]/benchmark_equity_list[i-1]) - 1)\n",
        "plt.plot(days_list[1:], benchmark_daily_returns)\n",
        "plt.xlabel('days')\n",
        "plt.ylabel('daily returns')\n",
        "plt.title('benchmark strategy daily returns')"
      ],
      "metadata": {
        "id": "cbheVMKXb-vp",
        "outputId": "7d845e90-0012-46e9-bc7a-422e5854e886",
        "colab": {
          "base_uri": "https://localhost:8080/",
          "height": 312
        }
      },
      "execution_count": 71,
      "outputs": [
        {
          "output_type": "execute_result",
          "data": {
            "text/plain": [
              "Text(0.5, 1.0, 'benchmark strategy daily returns')"
            ]
          },
          "metadata": {},
          "execution_count": 71
        },
        {
          "output_type": "display_data",
          "data": {
            "text/plain": [
              "<Figure size 432x288 with 1 Axes>"
            ],
            "image/png": "[encoded data removed]"
          },
          "metadata": {
            "needs_background": "light"
          }
        }
      ]
    },
    {
      "cell_type": "code",
      "source": [
        "# daily returns of nifty50\n",
        "nifty_daily_returns = []\n",
        "for i in range(1, len(nifty_y_pred)):\n",
        "  nifty_daily_returns.append((nifty_y_pred[i]/nifty_y_pred[i-1]) - 1)\n",
        "plt.plot(days_list[1:], nifty_daily_returns)\n",
        "plt.xlabel('days')\n",
        "plt.ylabel('daily returns')\n",
        "plt.title('nifty50 daily returns')"
      ],
      "metadata": {
        "id": "ow2hHYKmb_vw",
        "outputId": "8540e58b-80ae-477c-8352-c3b1acfb6c08",
        "colab": {
          "base_uri": "https://localhost:8080/",
          "height": 312
        }
      },
      "execution_count": 72,
      "outputs": [
        {
          "output_type": "execute_result",
          "data": {
            "text/plain": [
              "Text(0.5, 1.0, 'nifty50 daily returns')"
            ]
          },
          "metadata": {},
          "execution_count": 72
        },
        {
          "output_type": "display_data",
          "data": {
            "text/plain": [
              "<Figure size 432x288 with 1 Axes>"
            ],
            "image/png": "[encoded data removed]"
          },
          "metadata": {
            "needs_background": "light"
          }
        }
      ]
    },
    {
      "cell_type": "code",
      "source": [
        "# volatility\n",
        "sample_volatility = (pow(statistics.stdev(top_daily_returns), 1/252))*100\n",
        "print(sample_volatility)\n",
        "benchmark_volatility = (pow(statistics.stdev(benchmark_daily_returns), 1/252))*100\n",
        "print(benchmark_volatility)\n",
        "nifty_volatility = (pow(statistics.stdev(nifty_daily_returns), 1/252))*100\n",
        "print(nifty_volatility)"
      ],
      "metadata": {
        "id": "HHCTjelALbh5",
        "outputId": "e0345f26-0a09-4a76-e2ad-4240582bdc34",
        "colab": {
          "base_uri": "https://localhost:8080/"
        }
      },
      "execution_count": 74,
      "outputs": [
        {
          "output_type": "stream",
          "name": "stdout",
          "text": [
            "97.92136747343405\n",
            "97.79287262093321\n",
            "98.01562086251687\n"
          ]
        }
      ]
    },
    {
      "cell_type": "code",
      "source": [
        "# sharpe ratio\n",
        "sample_sharpe_ratio = pow(statistics.mean(top_daily_returns)/statistics.stdev(top_daily_returns), 1/252)\n",
        "print(sample_sharpe_ratio)\n",
        "benchmark_sharpe_ratio = pow(statistics.mean(benchmark_daily_returns)/statistics.stdev(benchmark_daily_returns), 1/252)\n",
        "print(benchmark_sharpe_ratio)\n",
        "nifty_sharpe_ratio = pow(statistics.mean(nifty_daily_returns)/statistics.stdev(nifty_daily_returns), 1/252)\n",
        "print(nifty_sharpe_ratio)"
      ],
      "metadata": {
        "id": "96oPUfStLfUy",
        "outputId": "5421d81e-efac-472f-f8b8-1acc151f6cf9",
        "colab": {
          "base_uri": "https://localhost:8080/"
        }
      },
      "execution_count": 79,
      "outputs": [
        {
          "output_type": "stream",
          "name": "stdout",
          "text": [
            "0.9980107807013104\n",
            "0.9944851781034858\n",
            "0.9970346893931895\n"
          ]
        }
      ]
    }
  ]
}